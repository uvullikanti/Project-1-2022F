{
 "cells": [
  {
   "cell_type": "markdown",
   "id": "0d26c4d7",
   "metadata": {},
   "source": [
    "# Project 1: Assembling Genes"
   ]
  },
  {
   "cell_type": "markdown",
   "id": "77e9e800",
   "metadata": {},
   "source": [
    "   <div class=\"alert alert-block alert-danger\">\n",
    "    <center>Due: <b>Monday, September 5, 8:59pm</b>.</center> \n",
    "   </div>\n",
    "   \n",
    "   <div class=\"alert alert-block alert-warning\">\n",
    "   <center>\n",
    "       <b>Collaboration and Resource Policy</b>\n",
    "    </center>\n",
    "    \n",
    "For this assignment, you are encouraged to work with one other person satisfying the constraints from Class 2. \n",
    "You are permitted (actually _encouraged_) to discuss these problems with anyone you want, including other students in the class. If you do discuss the specific questions in the assignment with anyone other than your assignment partner and the course staff, though, you should list them in the _External resources used_ section below.\n",
    "    \n",
    "You are welcome to use any resources you want for this assignment, other than ones that would defeat the purpose of the assignment. This means you should not look at answers or code from previous semesters of this course, or from any other students in the class (other than your collaboration with your partner), and if you find code that implements the problem you are being asked to do for the assignment, you should not use that code. You should document all external resource you use that are not part of the course materials in the _External resources used_ section below.\n",
    "    </div>"
   ]
  },
  {
   "cell_type": "markdown",
   "id": "9940ad6d",
   "metadata": {},
   "source": [
    "**Team submitting this assignment:**  \n",
    "<div class=\"alert alert-success\">\n",
    "    <b><em>list each member of your team here, including both your name and UVA computing id</em></b>\n",
    "\n",
    "Team Members (Names):  \n",
    "\n",
    "Team Member UVA Computing IDs:\n",
    "\n",
    "</div>\n",
    "\n",
    "**External resources used:** \n",
    "<div class=\"alert alert-success\">\n",
    "<em>It is not necessary to list the course materials, but if you used any other resources, including discussing problems with students not on your team, list them here.</em>\n",
    "    \n",
    "External Resources Used:\n",
    "\n",
    "</div>"
   ]
  },
  {
   "cell_type": "markdown",
   "id": "1ded71e0",
   "metadata": {},
   "source": [
    "In this project, we will explore genome assembly—the process of determining the order of nucleotides in DNA from fragmented reads. As you might have studied in the reading assignments, genome assembly can get quite complicated, as problems such as full sequence coverage, finding a good length for reads (the $k$ in $k$-mer), and sequencing errors present challenges for sequencing analysis and accuracy. You can assume perfect coverage for all parts of the assignment and no read errors for the first two questions.\n",
    "\n",
    "\n",
    "<b>Submission</b>: Please submit the code you wrote to generate your answers for all parts using this form: <a href=\"https://forms.gle/rNTXfYojTLEQ8idg6\"><em>https://forms.gle/rNTXfYojTLEQ8idg6</em></a>. Your answers should be in the Jupyter Notebook, along with your code. Before submission, you should make a copy of your notebook file with the name <i>uvaid1\\_uvaid2.ipynb</i> (where <i>uvaidn</i> is each teammates UVA id) so the submitted file identifies you. You and your partner should submit a single file once together. Submission is due 8:59 pm (EST) on Monday, September 5."
   ]
  },
  {
   "cell_type": "markdown",
   "id": "986ba695",
   "metadata": {},
   "source": [
    "## Install basic required packages."
   ]
  },
  {
   "cell_type": "markdown",
   "id": "84a1f4c2",
   "metadata": {},
   "source": [
    "- Install basic required packages, should be run only once. You may need to restart the kernel after this stage.\n",
    "- Make sure you have [graphviz](https://graphviz.org/download/) installed on your system.\n",
    "- The second cell adds Graphviz to your path, you may have to change based on where the install folder is.\n",
    "\n",
    "<b>NOTE: We provide utils.py, which may contain helpful functions for you to use, as well as gvmagic.py, which is a deprecated package to use graphviz within the notebook</b>"
   ]
  },
  {
   "cell_type": "code",
   "execution_count": 8,
   "id": "3c98953e",
   "metadata": {},
   "outputs": [
    {
     "name": "stdout",
     "output_type": "stream",
     "text": [
      "Requirement already satisfied: numpy in /Library/Frameworks/Python.framework/Versions/3.6/lib/python3.6/site-packages (from -r requirements.txt (line 1))\n",
      "Collecting matplotlib (from -r requirements.txt (line 2))\n",
      "  Downloading https://files.pythonhosted.org/packages/77/bd/a70d352f3c24bd444f3cf182f232cca421de23098fba2cf34df1defa68e6/matplotlib-3.3.4-cp36-cp36m-macosx_10_9_x86_64.whl (8.5MB)\n",
      "\u001b[K    100% |████████████████████████████████| 8.5MB 196kB/s eta 0:00:01\n",
      "\u001b[?25hCollecting pydot (from -r requirements.txt (line 3))\n",
      "  Downloading https://files.pythonhosted.org/packages/ea/76/75b1bb82e9bad3e3d656556eaa353d8cd17c4254393b08ec9786ac8ed273/pydot-1.4.2-py2.py3-none-any.whl\n",
      "Collecting graphviz (from -r requirements.txt (line 4))\n",
      "  Downloading https://files.pythonhosted.org/packages/9d/fb/886e8ec7862989afc0c35d15813b6c665fe134cc6027cdde2fa300abe9a2/graphviz-0.19.1-py3-none-any.whl (46kB)\n",
      "\u001b[K    100% |████████████████████████████████| 51kB 7.9MB/s eta 0:00:01\n",
      "\u001b[?25hCollecting kiwisolver>=1.0.1 (from matplotlib->-r requirements.txt (line 2))\n",
      "  Downloading https://files.pythonhosted.org/packages/94/4e/f90bcdd273194230f9c08ec63a6d0874ef36ff5c077f487f761221361cc4/kiwisolver-1.3.1-cp36-cp36m-macosx_10_9_x86_64.whl (61kB)\n",
      "\u001b[K    100% |████████████████████████████████| 61kB 4.8MB/s eta 0:00:01\n",
      "\u001b[?25hRequirement already satisfied: pyparsing!=2.0.4,!=2.1.2,!=2.1.6,>=2.0.3 in /Library/Frameworks/Python.framework/Versions/3.6/lib/python3.6/site-packages (from matplotlib->-r requirements.txt (line 2))\n",
      "Collecting pillow>=6.2.0 (from matplotlib->-r requirements.txt (line 2))\n",
      "  Downloading https://files.pythonhosted.org/packages/55/a0/e4f9fbe76d4951bd32a10a6e064b091199349e984d8f40702b1c44180b0e/Pillow-8.4.0-cp36-cp36m-macosx_10_10_x86_64.whl (3.0MB)\n",
      "\u001b[K    100% |████████████████████████████████| 3.0MB 518kB/s eta 0:00:01\n",
      "\u001b[?25hCollecting cycler>=0.10 (from matplotlib->-r requirements.txt (line 2))\n",
      "  Downloading https://files.pythonhosted.org/packages/5c/f9/695d6bedebd747e5eb0fe8fad57b72fdf25411273a39791cde838d5a8f51/cycler-0.11.0-py3-none-any.whl\n",
      "Requirement already satisfied: python-dateutil>=2.1 in /Library/Frameworks/Python.framework/Versions/3.6/lib/python3.6/site-packages (from matplotlib->-r requirements.txt (line 2))\n",
      "Requirement already satisfied: six>=1.5 in /Library/Frameworks/Python.framework/Versions/3.6/lib/python3.6/site-packages (from python-dateutil>=2.1->matplotlib->-r requirements.txt (line 2))\n",
      "Installing collected packages: kiwisolver, pillow, cycler, matplotlib, pydot, graphviz\n",
      "Successfully installed cycler-0.11.0 graphviz-0.19.1 kiwisolver-1.3.1 matplotlib-3.3.4 pillow-8.4.0 pydot-1.4.2\n",
      "\u001b[33mYou are using pip version 9.0.1, however version 22.2.2 is available.\n",
      "You should consider upgrading via the 'pip install --upgrade pip' command.\u001b[0m\n",
      "Note: you may need to restart the kernel to use updated packages.\n"
     ]
    }
   ],
   "source": [
    "%pip install -r requirements.txt"
   ]
  },
  {
   "cell_type": "code",
   "execution_count": 10,
   "id": "569e1927",
   "metadata": {},
   "outputs": [],
   "source": [
    "import os\n",
    "os.environ[\"PATH\"] += os.pathsep + 'C:/Program Files/Graphviz/bin'"
   ]
  },
  {
   "cell_type": "markdown",
   "id": "cb199cee",
   "metadata": {},
   "source": [
    "## Genome Assembly\n",
    "\n",
    "For this part, you're given reads generated while trying to sequence the DNA of a TeleTubby (some unknown organism) with a \\textit{very} small genetic code. By answering the following questions, you will learn how to assemble the original genome sequence from sequence reads.\n",
    "\n",
    "Sequencing data is often stored in FASTQ file format. In TeleTubby.fastq, you will find the data organized in a particular order that repeats every four lines. The first line contains the metadata that encodes the name of the read, the experiment type, the kind of sequencing machine used, etc. The second line is the sequence of bases. The third line functions as a placeholder line. The fourth line is a sequence of base qualities that encode the qualities for the corresponding bases in the sequence line. We will only work with the sequence and quality score lines in this question."
   ]
  },
  {
   "cell_type": "code",
   "execution_count": 11,
   "id": "dc1d15d0",
   "metadata": {},
   "outputs": [
    {
     "ename": "ModuleNotFoundError",
     "evalue": "No module named 'tqdm'",
     "output_type": "error",
     "traceback": [
      "\u001b[0;31m---------------------------------------------------------------------------\u001b[0m",
      "\u001b[0;31mModuleNotFoundError\u001b[0m                       Traceback (most recent call last)",
      "\u001b[0;32m<ipython-input-11-ad57bd7d47bc>\u001b[0m in \u001b[0;36m<module>\u001b[0;34m\u001b[0m\n\u001b[1;32m      3\u001b[0m \u001b[0;32mimport\u001b[0m \u001b[0mnumpy\u001b[0m \u001b[0;32mas\u001b[0m \u001b[0mnp\u001b[0m\u001b[0;34m\u001b[0m\u001b[0m\n\u001b[1;32m      4\u001b[0m \u001b[0;32mimport\u001b[0m \u001b[0mutils\u001b[0m\u001b[0;34m\u001b[0m\u001b[0m\n\u001b[0;32m----> 5\u001b[0;31m \u001b[0;32mfrom\u001b[0m \u001b[0mtqdm\u001b[0m \u001b[0;32mimport\u001b[0m \u001b[0mtqdm\u001b[0m\u001b[0;34m\u001b[0m\u001b[0m\n\u001b[0m",
      "\u001b[0;31mModuleNotFoundError\u001b[0m: No module named 'tqdm'"
     ]
    }
   ],
   "source": [
    "import collections\n",
    "import matplotlib.pyplot as plt\n",
    "import numpy as np\n",
    "import utils\n",
    "from tqdm import tqdm"
   ]
  },
  {
   "cell_type": "markdown",
   "id": "9a30b449",
   "metadata": {},
   "source": [
    "#### Question 1.1.1 GC-content\n",
    "\n",
    "The GC-content (or the ratio of G and C nucleotides) is related to the melting temperature of the DNA double helix. Use the following equation to calculate the melting temperature of DNA for TeleTubby $t_m$ in Celsius:\n",
    "\n",
    "\\begin{equation*}\n",
    "t_m = 64.9+0.41(\\%GC)-\\frac{500}{\\text{length of sequence}}\n",
    "\\end{equation*}\n",
    "\n",
    "As a reference, the human genome is known to have between 35%-60% GC-content. "
   ]
  },
  {
   "cell_type": "code",
   "execution_count": 12,
   "id": "1c6d3ceb",
   "metadata": {},
   "outputs": [
    {
     "data": {
      "text/plain": [
       "['TTACAAGA',\n",
       " 'TCATGCAT',\n",
       " 'AGGCGCTA',\n",
       " 'CGGACTCT',\n",
       " 'TTTCATGA',\n",
       " 'GCGCTATC',\n",
       " 'CGACTGTC',\n",
       " 'ATCGCAAC',\n",
       " 'TCGCTGCC',\n",
       " 'CGCAAACC',\n",
       " 'CAAGAATT',\n",
       " 'GTCGGACT',\n",
       " 'CCGCCCTT',\n",
       " 'CGAGAGAT',\n",
       " 'GAGGCGCT',\n",
       " 'TTGTGCTA',\n",
       " 'GGGAGTAT',\n",
       " 'GTTAGCAG',\n",
       " 'TGTCGGAC',\n",
       " 'CCCGGAGG',\n",
       " 'GCACATCC',\n",
       " 'AGGGGTTT',\n",
       " 'CGCTATCG',\n",
       " 'TAACAACT',\n",
       " 'TGGTGCCG',\n",
       " 'GTGCTATC',\n",
       " 'CGACATAT',\n",
       " 'TTCATGAG',\n",
       " 'AGTGGGAG',\n",
       " 'TACGCCAA',\n",
       " 'TTGTTTCT',\n",
       " 'GATGCAAT',\n",
       " 'CGCAGGAT',\n",
       " 'CTAAGAGA',\n",
       " 'TAGCAATG',\n",
       " 'ATAGCAAT',\n",
       " 'GGAGTATG',\n",
       " 'CCAAACAC',\n",
       " 'GCTGCCCG',\n",
       " 'AAATAGCA',\n",
       " 'GCAGGATA',\n",
       " 'TATCGACA',\n",
       " 'CTTTACAA',\n",
       " 'TAAGAGAG',\n",
       " 'TCTTTCAT',\n",
       " 'CAAACCGA',\n",
       " 'ATGGTGCA',\n",
       " 'TGGGAGTA',\n",
       " 'TCTTTACA',\n",
       " 'TTACAGGA',\n",
       " 'TGTTTCTC',\n",
       " 'GATTTGTG',\n",
       " 'ACTTATGT',\n",
       " 'GTTGTTTC',\n",
       " 'TGCCCGGA',\n",
       " 'CTGCCCGG',\n",
       " 'GGAGGCGC',\n",
       " 'AAACACTC',\n",
       " 'GCTATCGC',\n",
       " 'GGGTTTTG',\n",
       " 'TGCCCGCC',\n",
       " 'TCATGGTA',\n",
       " 'TATCGCTG',\n",
       " 'TGGTATCG',\n",
       " 'GACATATC',\n",
       " 'ATAACAAC',\n",
       " 'GTATCGAC',\n",
       " 'AGATTTGT',\n",
       " 'CCGACTGT',\n",
       " 'CGCTGCCC',\n",
       " 'ACCGACTG',\n",
       " 'GCAACCTA',\n",
       " 'CGCAACCT',\n",
       " 'ATGAGCAA',\n",
       " 'GATAACAA',\n",
       " 'TGTACTAC',\n",
       " 'CATCCGCT',\n",
       " 'TGCGCAGG',\n",
       " 'TACAGGAG',\n",
       " 'CTTATGTA',\n",
       " 'TACTACAT',\n",
       " 'ATCGCTAC',\n",
       " 'CTACTGGT',\n",
       " 'TACAAGAA',\n",
       " 'GTTTCTTC',\n",
       " 'GCCCTTCG',\n",
       " 'AGCAAAAA',\n",
       " 'TATGTACT',\n",
       " 'ATCGCAAA',\n",
       " 'CAAACACT',\n",
       " 'CCTTCGAT',\n",
       " 'GGTTTTGT',\n",
       " 'GAATTACA',\n",
       " 'TATCGCAA',\n",
       " 'CTACATGT',\n",
       " 'TATCGCTA',\n",
       " 'CGCCAAAT',\n",
       " 'TCGCTGTC',\n",
       " 'ATGTACTA',\n",
       " 'ACAAGAAT',\n",
       " 'CTATCGCA',\n",
       " 'GTACTACA',\n",
       " 'GTGCACAT',\n",
       " 'TGTCATGG',\n",
       " 'GAGAGATT',\n",
       " 'CTTTCATG',\n",
       " 'ACTACATG',\n",
       " 'CGCTATCG',\n",
       " 'TCGTGCCC',\n",
       " 'CAGGAGCC',\n",
       " 'GTGCCCGC',\n",
       " 'ACATCCGC',\n",
       " 'TTCGATGC',\n",
       " 'GCTATCGC',\n",
       " 'ATCGCTGC',\n",
       " 'GCAATGCG',\n",
       " 'AGCCAAAC',\n",
       " 'CATGTTGT',\n",
       " 'GCTACTGG',\n",
       " 'TCGAGAGA',\n",
       " 'AAGAGAGA',\n",
       " 'TCATGAGC',\n",
       " 'GTGTTAGC',\n",
       " 'CAATGTCG',\n",
       " 'GAGATTTG',\n",
       " 'CATGGTAT',\n",
       " 'GAGAAGGG',\n",
       " 'AATGTCGA',\n",
       " 'GGTGCCGC',\n",
       " 'CTGTCGGA',\n",
       " 'TAGCAGTT',\n",
       " 'CAACTTAT',\n",
       " 'ACTGGTGC',\n",
       " 'CCGGAGGC',\n",
       " 'CACTCGCT',\n",
       " 'CTCTTTCA',\n",
       " 'TTCATGCA',\n",
       " 'ACATATCG',\n",
       " 'GCGCAGGA',\n",
       " 'TCTCGTGC',\n",
       " 'TTCTTCAT',\n",
       " 'AAGAATTA',\n",
       " 'ATGTTGTT',\n",
       " 'GTTTCTCG',\n",
       " 'CAGTTTCT',\n",
       " 'ACAGGAGC',\n",
       " 'TATCGCAA',\n",
       " 'GGTATCGA',\n",
       " 'GCCAAATA',\n",
       " 'GAGAGAAG',\n",
       " 'TGTTAGCA',\n",
       " 'TGCATCTC',\n",
       " 'GGAGCCAA',\n",
       " 'GAAGGGGT',\n",
       " 'TTTGTGCT',\n",
       " 'CGCTGTCA',\n",
       " 'GGACTCTT',\n",
       " 'TTTGTGTT',\n",
       " 'CTTCGATG',\n",
       " 'TGCCGCCC',\n",
       " 'CCTAAGAG',\n",
       " 'ATGTCGAG',\n",
       " 'GTGCCGCC',\n",
       " 'CGGAGGCG',\n",
       " 'GACTCTTT',\n",
       " 'AACAACTT',\n",
       " 'AAAAAAGT',\n",
       " 'TATGGTGC',\n",
       " 'GCCGCCCT',\n",
       " 'GCCCGGAG',\n",
       " 'AACCGACT',\n",
       " 'TACTGGTG',\n",
       " 'ACAACTTA',\n",
       " 'CAATGCGC',\n",
       " 'GGCGCTAT',\n",
       " 'GACTGTCG',\n",
       " 'ATCTCTTT',\n",
       " 'GCCAAACA',\n",
       " 'AGCAATGC',\n",
       " 'CAACCTAA',\n",
       " 'TGCACATC',\n",
       " 'ATCCGCTA',\n",
       " 'AAGTGGGA',\n",
       " 'AGAGAAGG',\n",
       " 'CCCTTCGA',\n",
       " 'GTTTTGTG',\n",
       " 'GCAGTTTC',\n",
       " 'AATAGCAA',\n",
       " 'TCGCAAAC',\n",
       " 'CGCCAATG',\n",
       " 'CATGAGCA',\n",
       " 'GCATCTCT',\n",
       " 'CTGTCATG',\n",
       " 'GGATAACA',\n",
       " 'CGATGCAA',\n",
       " 'GCCAATGT',\n",
       " 'GAGCCAAA',\n",
       " 'AGTTTCTT',\n",
       " 'CGCTACTG',\n",
       " 'TGCTATCG',\n",
       " 'TACATGTT',\n",
       " 'AGAAGGGG',\n",
       " 'GCTGTCAT',\n",
       " 'CTCGCTGT',\n",
       " 'CCAATGTC',\n",
       " 'CAAATAGC',\n",
       " 'ACCTAAGA',\n",
       " 'GCAATGTT',\n",
       " 'AAAAAAAG',\n",
       " 'ATTACAGG',\n",
       " 'TCTCTTTA',\n",
       " 'CAGGATAA',\n",
       " 'TGAGCAAA',\n",
       " 'CGTGCCCG',\n",
       " 'ACATGTTG',\n",
       " 'AGCAGTTT',\n",
       " 'AGGAGCCA',\n",
       " 'ATGCATCT',\n",
       " 'AAACCGAC',\n",
       " 'AATGCGCA',\n",
       " 'ACTGTCGG',\n",
       " 'AGAATTAC',\n",
       " 'ATATCGCT',\n",
       " 'GCTATCGC',\n",
       " 'CCGCCAAT',\n",
       " 'CCCGCCAA',\n",
       " 'GAGTATGG',\n",
       " 'AGGATAAC',\n",
       " 'AACTTATG',\n",
       " 'TTATGTAC',\n",
       " 'CATGCATC',\n",
       " 'CACATCCG',\n",
       " 'CATCTCTT',\n",
       " 'TTTTGTGT',\n",
       " 'TTTCTCGT',\n",
       " 'CAAAAAAA',\n",
       " 'CTATCGCT',\n",
       " 'CATATCGC',\n",
       " 'TTAGCAGT',\n",
       " 'TGGTGCAC',\n",
       " 'ATCGACAT',\n",
       " 'CTATCGCA',\n",
       " 'AACCTAAG',\n",
       " 'TTTACAAG',\n",
       " 'TGTCGAGA',\n",
       " 'ATGCGCAG',\n",
       " 'TCCGCTAT',\n",
       " 'TGTTGTTT',\n",
       " 'TGTGTTAG',\n",
       " 'CTCGTGCC',\n",
       " 'TGCAATGT',\n",
       " 'GGTGCACA',\n",
       " 'CTTCATGC',\n",
       " 'CTCTTTAC',\n",
       " 'ATTTGTGC',\n",
       " 'TCGACATA',\n",
       " 'CGCCCTTC',\n",
       " 'AACACTCG',\n",
       " 'TCGCAACC',\n",
       " 'GTATGGTG',\n",
       " 'AAAAGTGG',\n",
       " 'GTGGGAGT',\n",
       " 'ACTCTTTC',\n",
       " 'ACGCCAAA',\n",
       " 'ACACTCGC',\n",
       " 'AGTATGGT',\n",
       " 'CTGGTGCC',\n",
       " 'GGGGTTTT',\n",
       " 'AAAAAGTG',\n",
       " 'GTCGAGAG',\n",
       " 'ACTCGCTG',\n",
       " 'AAAGTGGG',\n",
       " 'CCGCTATC',\n",
       " 'TTCTCGTG',\n",
       " 'ATGGTATC',\n",
       " 'TCGCTACT',\n",
       " 'GAGCAAAA',\n",
       " 'TCTTCATG',\n",
       " 'TGTGCTAT',\n",
       " 'AATTACAG',\n",
       " 'TCGATGCA',\n",
       " 'ATGCAATG',\n",
       " 'TTTCTTCA',\n",
       " 'TTGTGTTA',\n",
       " 'GCAAAAAA',\n",
       " 'AGAGAGAA',\n",
       " 'TCGGACTC',\n",
       " 'AGAGATTT',\n",
       " 'GCCCGCCA',\n",
       " 'GTCATGGT',\n",
       " 'AAGGGGTT',\n",
       " 'GCAAACCG',\n",
       " 'CCAAATAG']"
      ]
     },
     "execution_count": 12,
     "metadata": {},
     "output_type": "execute_result"
    }
   ],
   "source": [
    "# Read sequence reads (error-free) from file\n",
    "sequence_reads, qualities = utils.read_fastq('TeleTubby.fastq')\n",
    "\n",
    "# Calculate %GC content\n",
    "\n",
    "\n",
    "# Print out temperature in Celsius\n",
    "sequence_reads"
   ]
  },
  {
   "cell_type": "markdown",
   "id": "e72a3a69",
   "metadata": {},
   "source": [
    "#### Question 1.1.2 Interpreting quality scores"
   ]
  },
  {
   "cell_type": "markdown",
   "id": "3489ab9b",
   "metadata": {},
   "source": [
    "Phred33 quality scores are represented as the character with an ASCII code equal to its value + 33 (to make them easy to print alongside genome sequences). List the top 5 most frequent scores in ASCII symbol as well as their Phredd33 scores in TeleTubby.fastq. You can refer to the [official Illumina website](https://support.illumina.com/help/BaseSpace_OLH_009008/Content/Source/Informatics/BS/QualityScoreEncoding_swBS.htm) to reference the scoring encoding.\n",
    "\n",
    "What is the average Phred33 score in TeleTubby.fastq?"
   ]
  },
  {
   "cell_type": "code",
   "execution_count": 41,
   "id": "a061e9e3",
   "metadata": {},
   "outputs": [
    {
     "name": "stdout",
     "output_type": "stream",
     "text": [
      "Most frequent Phred33 Scores\n",
      "5  -  86\n",
      "?  -  96\n",
      "D  -  101\n",
      "K  -  108\n",
      "F  -  103\n",
      "Average Phred33:  34.476535836177476\n"
     ]
    }
   ],
   "source": [
    "# Top 5 most frequent scores\n",
    "full_phred = \"\".join(qualities)\n",
    "#print(full_phred)\n",
    "\n",
    "freq_phred = [full_phred[0]]\n",
    "freq = 0\n",
    "\n",
    "most_freq = []\n",
    "\n",
    "for l in range(5): \n",
    "    for i in full_phred:\n",
    "        curr_freq = full_phred.count(i)\n",
    "        if (curr_freq > freq):\n",
    "            freq = curr_freq\n",
    "            freq_phred = i\n",
    "    most_freq += freq_phred\n",
    "    for k in full_phred:\n",
    "        full_phred = full_phred.replace(freq_phred, \"\")\n",
    "    freq_phred = [full_phred[0]]\n",
    "    freq = 0\n",
    "\n",
    "    \n",
    "print(\"Most frequent Phred33 Scores\")\n",
    "for z in most_freq:\n",
    "    print(z, \" - \", ord(z)+33)\n",
    "    \n",
    "    \n",
    "\n",
    "\n",
    "\n",
    "#average Phred33 score\n",
    "avg = 0\n",
    "total = len(qualities[0]) * len(qualities)\n",
    "for x in range(len(qualities)):\n",
    "    for y in qualities[x]:\n",
    "        avg += (ord(y)-33)\n",
    "\n",
    "avg = avg/total\n",
    "print(\"Average Phred33: \", avg)"
   ]
  },
  {
   "cell_type": "markdown",
   "id": "96545961",
   "metadata": {},
   "source": [
    "#### Question 1.1.3 Frequency analysis\n",
    "\n",
    "Looking at repetitions in the sequence can be helpful in estimating the \"redudancy\" in the organisms. Humand and other evolved animals have a lot of redundancy, while smaller organisms like bacteria have highly packed genomes. One heuristic to estimate this before actually performing the assembly could be looking at how often certain $k$-mers are repeated.\n",
    "\n",
    "<b>Print out the 3 most frequent k-mers with their frequencies</b>"
   ]
  },
  {
   "cell_type": "code",
   "execution_count": null,
   "id": "f6f03269",
   "metadata": {},
   "outputs": [],
   "source": [
    "# Find and print out the three most repeated k-mers and their frequencies\n"
   ]
  },
  {
   "cell_type": "markdown",
   "id": "91b98786",
   "metadata": {},
   "source": [
    "### Question 1.2. Greedy approach"
   ]
  },
  {
   "cell_type": "markdown",
   "id": "4527ffab",
   "metadata": {},
   "source": [
    "One of the approaches to assemble the genome from the given reads is a greedy algorithm. Have a look at the greedy algorithm described on [Wikipedia](https://en.wikipedia.org/wiki/Sequence_assembly#Greedy_algorithm) and answer the following."
   ]
  },
  {
   "cell_type": "markdown",
   "id": "4a6f8d9c",
   "metadata": {},
   "source": [
    "#### Question 1.2.1 What would the runtime be of this algorithm, given $n$ $k$-mer reads?"
   ]
  },
  {
   "cell_type": "markdown",
   "id": "50a6713c",
   "metadata": {},
   "source": [
    "<i>Answer</i>:"
   ]
  },
  {
   "cell_type": "markdown",
   "id": "09aca6f4",
   "metadata": {},
   "source": [
    "#### Question 1.2.2 Would this algorithm always yield a unique solution?"
   ]
  },
  {
   "cell_type": "markdown",
   "id": "f04ce3af",
   "metadata": {},
   "source": [
    "<i>Answer</i>:"
   ]
  },
  {
   "cell_type": "markdown",
   "id": "15ea3c64",
   "metadata": {},
   "source": [
    "#### Question 1.2.3 Would this algorithm always yield the <i>right</i> solution?"
   ]
  },
  {
   "cell_type": "markdown",
   "id": "f3ceb013",
   "metadata": {},
   "source": [
    "<i>Answer</i>:"
   ]
  },
  {
   "cell_type": "markdown",
   "id": "8d09b2af",
   "metadata": {},
   "source": [
    "### Question 1.3 Graph-based approaches"
   ]
  },
  {
   "cell_type": "markdown",
   "id": "42af6dce",
   "metadata": {},
   "source": [
    "Graphs for genome assembly can be constructed in two ways:\n",
    "\n",
    "- de Bruijn graph: Processing $k-$mers as nodes, with $(k-1)-$mers as edges, and\n",
    "- Overlap graph: Processing $k-$mers as edges, with $(k-1)-$mers as nodes.\n",
    "\n",
    "de Bruijn graphs can be processed to find Euler paths, while Overlap graphs can be processed to find Hamiltonian paths. Both of these are valid ways to reconstruct the original genome.\n",
    "\n",
    "<b>Use one of these two techniques to reconstruct the sequence, and print out your reconstructed sequence. Which method did you pick out of the two, and why? (hint: imagine what would happen when we have millions of reads). Use the k-mers provided in TeleTubby.fastq</b>.\n",
    "\n",
    "We provide some skeleton code that you may use, but you may also come up with your own solution."
   ]
  },
  {
   "cell_type": "code",
   "execution_count": null,
   "id": "cae7809d",
   "metadata": {},
   "outputs": [],
   "source": [
    "# Read reads into graph\n",
    "\n",
    "def build_graph(k_mers):\n",
    "    edges = []\n",
    "    nodes = set()\n",
    "    # Your code here\n",
    "    return nodes, edges\n",
    "\n",
    "nodes, edges = build_graph(sequence_reads)"
   ]
  },
  {
   "cell_type": "code",
   "execution_count": null,
   "id": "9795f65a",
   "metadata": {},
   "outputs": [],
   "source": [
    "# Implement assembly algorithm"
   ]
  },
  {
   "cell_type": "code",
   "execution_count": null,
   "id": "850199ad",
   "metadata": {},
   "outputs": [],
   "source": [
    "# Print assembled sequence"
   ]
  },
  {
   "cell_type": "code",
   "execution_count": null,
   "id": "56491dc7",
   "metadata": {},
   "outputs": [],
   "source": [
    "# Needed to properly visualize graphs\n",
    "%load_ext gvmagic"
   ]
  },
  {
   "cell_type": "code",
   "execution_count": null,
   "id": "01853599",
   "metadata": {},
   "outputs": [],
   "source": [
    "# Helper function to visualize de Bruijn graphs\n",
    "%dotstr utils.viz_debruijn(nodes_bruijn, edges_bruijn)"
   ]
  },
  {
   "cell_type": "code",
   "execution_count": null,
   "id": "9df4e5a5",
   "metadata": {},
   "outputs": [],
   "source": [
    "# Main assembly algorithm\n",
    "\n",
    "def assemble_sequence(nodes, edges):\n",
    "    assembled_sequence = \"\"\n",
    "    # Your code here\n",
    "    return assembled_sequence"
   ]
  },
  {
   "cell_type": "code",
   "execution_count": null,
   "id": "eeda3066",
   "metadata": {},
   "outputs": [],
   "source": [
    "# Output assembled sequence\n",
    "\n",
    "assmebled_seq = assemble_sequence(nodes, edges)"
   ]
  },
  {
   "cell_type": "markdown",
   "id": "c2e2a28f",
   "metadata": {},
   "source": [
    "## Question 2 - Sequencing SARS-CoV-2 virus"
   ]
  },
  {
   "cell_type": "markdown",
   "id": "8df635ac",
   "metadata": {},
   "source": [
    "Let's move on from TeleTubbies to real-world organisms. Let's start small- with a variant of the SARS-CoV-2 virus. You're given reads from <i>actual</i> genome sequencing runs in the SARS-CoV2.fastq file provided.\n",
    "\n",
    "Repeat Question 1.3 on this data. You can re-use your implementation and simply run it on the new data. Print out your reconstructed sequence to a file \"output.txt\". For this part, we will still assume that all the reads are error-free. Set $k=25$."
   ]
  },
  {
   "cell_type": "code",
   "execution_count": null,
   "id": "8cc13a12",
   "metadata": {},
   "outputs": [],
   "source": [
    "# Read sequence reads\n",
    "sequence_reads_covid, qualities_covid = utils.read_fastq('SARS-CoV2.fastq')"
   ]
  },
  {
   "cell_type": "code",
   "execution_count": null,
   "id": "3646ab0b",
   "metadata": {},
   "outputs": [],
   "source": [
    "# Read reads into graph\n",
    "nodes_covid, edges_covid = build_graph(sequence_reads_covid)"
   ]
  },
  {
   "cell_type": "code",
   "execution_count": null,
   "id": "ac8cd710",
   "metadata": {},
   "outputs": [],
   "source": [
    "# Call main assembly algorithm\n",
    "assmebled_covid_seq = assemble_sequence(nodes_covid, edges_covid)"
   ]
  },
  {
   "cell_type": "code",
   "execution_count": null,
   "id": "66490da4",
   "metadata": {},
   "outputs": [],
   "source": [
    "# Write assembled sequence to file\n",
    "\n",
    "assmebled_seq = \"\" # Use your assembled genome\n",
    "with open(\"covid_overlap.txt\", \"w\") as f:\n",
    "    f.write(assmebled_seq)"
   ]
  },
  {
   "cell_type": "markdown",
   "id": "9250385d",
   "metadata": {},
   "source": [
    "# Question 3- Error-Aware Assembly (Extra Credit)"
   ]
  },
  {
   "cell_type": "markdown",
   "id": "3f39d44a",
   "metadata": {},
   "source": [
    "In the parts above, we assumed error-free reads while assembling $k$-mers. As much as we'd like that, actual reads can (and do) have errors, captured by their Phred scores. For this question, you're given raw, actual reads from sequencing runs (download reads here: https://sra-pub-sars-cov2.s3.amazonaws.com/sra-src/SRR11528307/ABS2-LN-R1_cleaned_paired.fastq.gz).  Given these reads and their Phred33 scores, can you assemble the genome?\n",
    "\n",
    "<b>Print out your assembled sequence, along with a brief explanation of how your algorithm works</b>\n",
    "\n",
    "This is an open-ended question. You are free to use any approach to deal with the issue. Make sure you provide your code, along with any assumptions you may have, in the cells below."
   ]
  },
  {
   "cell_type": "code",
   "execution_count": null,
   "id": "616da5a0",
   "metadata": {},
   "outputs": [],
   "source": []
  },
  {
   "cell_type": "code",
   "execution_count": null,
   "id": "aaacc026",
   "metadata": {},
   "outputs": [],
   "source": []
  }
 ],
 "metadata": {
  "kernelspec": {
   "display_name": "Python 3",
   "language": "python",
   "name": "python3"
  },
  "language_info": {
   "codemirror_mode": {
    "name": "ipython",
    "version": 3
   },
   "file_extension": ".py",
   "mimetype": "text/x-python",
   "name": "python",
   "nbconvert_exporter": "python",
   "pygments_lexer": "ipython3",
   "version": "3.6.4"
  }
 },
 "nbformat": 4,
 "nbformat_minor": 5
}
